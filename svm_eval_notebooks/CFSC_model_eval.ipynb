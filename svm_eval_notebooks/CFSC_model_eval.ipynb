{
 "cells": [
  {
   "cell_type": "markdown",
   "metadata": {},
   "source": [
    "# Model Evaluation"
   ]
  },
  {
   "cell_type": "code",
   "execution_count": null,
   "metadata": {},
   "outputs": [],
   "source": [
    "# IMPORTS\n",
    "import pandas as pd\n",
    "import numpy as np\n",
    "import matplotlib.pyplot as plt\n",
    "import seaborn as sns\n",
    "import joblib\n",
    "import cv2 as cv\n",
    "from sklearn.metrics import confusion_matrix, accuracy_score, precision_score, recall_score, f1_score"
   ]
  },
  {
   "cell_type": "markdown",
   "metadata": {},
   "source": [
    "## LOAD VALIDATION (TEST) DATA"
   ]
  },
  {
   "cell_type": "code",
   "execution_count": null,
   "metadata": {},
   "outputs": [],
   "source": [
    "# Load picked data\n",
    "df_test = pd.read_pickle(\"../pickled_data/df_val.pkl\")\n",
    "df_test"
   ]
  },
  {
   "cell_type": "code",
   "execution_count": null,
   "metadata": {},
   "outputs": [],
   "source": [
    "# Flatten the image_data\n",
    "df_test['image_data'] = df_test['image_data'].apply(lambda x: x.flatten())\n",
    "df_test"
   ]
  },
  {
   "cell_type": "markdown",
   "metadata": {},
   "source": [
    "## LOAD MODELS"
   ]
  },
  {
   "cell_type": "code",
   "execution_count": null,
   "metadata": {},
   "outputs": [],
   "source": [
    "# Load SVM model variant (a)\n",
    "svm_model_a = joblib.load(\"../exported_models/svm_model_(a).pkl\")\n",
    "svm_model_a"
   ]
  },
  {
   "cell_type": "markdown",
   "metadata": {},
   "source": [
    "## Evaluation of the models' performance on the validation data"
   ]
  },
  {
   "cell_type": "code",
   "execution_count": null,
   "metadata": {},
   "outputs": [],
   "source": [
    "# Predict the test data (using the SVM model variant (a))\n",
    "y_predicted = svm_model_a.predict(df_test['image_data'].tolist())\n",
    "y_predicted"
   ]
  },
  {
   "cell_type": "code",
   "execution_count": null,
   "metadata": {},
   "outputs": [],
   "source": [
    "# Create a confusion matrix (for model variant (a))\n",
    "y_actual = df_test['label'].tolist()\n",
    "cm_a = confusion_matrix(y_actual, y_predicted)\n",
    "\n",
    "# Plot the confusion matrix (for model variant (a))\n",
    "plt.figure(figsize=(10, 10))\n",
    "sns.heatmap(cm_a, annot=True, fmt='d', cmap='Blues')\n",
    "plt.xlabel('Predicted')\n",
    "plt.ylabel('Actual')\n",
    "plt.show()"
   ]
  },
  {
   "cell_type": "code",
   "execution_count": null,
   "metadata": {},
   "outputs": [],
   "source": [
    "# Accuracy, precision, recall, f1-score (for model variant (a))\n",
    "accuracy_a = accuracy_score(y_actual, y_predicted)\n",
    "precision_a = precision_score(y_actual, y_predicted)\n",
    "recall_a = recall_score(y_actual, y_predicted)\n",
    "f1_score_a = f1_score(y_actual, y_predicted)\n",
    "\n",
    "print(\"------ SVM model variant (a) ------\")\n",
    "print(f\"Accuraracy: {accuracy_a * 100:.2f}%\")\n",
    "print(f\"Precision: {precision_a * 100:.2f}%\")\n",
    "print(f\"Recall: {recall_a* 100:.2f}%\")\n",
    "print(f\"F1-score: {f1_score_a * 100:.2f}%\")"
   ]
  },
  {
   "cell_type": "code",
   "execution_count": null,
   "metadata": {},
   "outputs": [],
   "source": [
    "# Try it on an image\n",
    "img = cv.imread(\"../CF_processed/train/normal/train_norm_22.png\")\n",
    "img = cv.cvtColor(img, cv.COLOR_BGR2GRAY)\n",
    "img = cv.resize(img, (500, 500))\n",
    "img"
   ]
  },
  {
   "cell_type": "code",
   "execution_count": null,
   "metadata": {},
   "outputs": [],
   "source": [
    "# Predict the image\n",
    "img_pred = svm_model_a.predict(img.flatten().reshape(1, -1))\n",
    "# Print the prediction result, remeber that the image is of a normal cervical spine\n",
    "print(f\"Model(a) prediction: {'Normal' if img_pred == 0 else 'Fractured'}\")\n",
    "print(\"Actual: Normal\")\n",
    "plt.imshow(img, cmap='gray')"
   ]
  }
 ],
 "metadata": {
  "kernelspec": {
   "display_name": "Python 3.11.0 64-bit",
   "language": "python",
   "name": "python3"
  },
  "language_info": {
   "codemirror_mode": {
    "name": "ipython",
    "version": 3
   },
   "file_extension": ".py",
   "mimetype": "text/x-python",
   "name": "python",
   "nbconvert_exporter": "python",
   "pygments_lexer": "ipython3",
   "version": "3.11.0"
  },
  "orig_nbformat": 4,
  "vscode": {
   "interpreter": {
    "hash": "bce94cf5ba4e91c139e25acaf699abf418036a78723bf02e000e119123230ea1"
   }
  }
 },
 "nbformat": 4,
 "nbformat_minor": 2
}
