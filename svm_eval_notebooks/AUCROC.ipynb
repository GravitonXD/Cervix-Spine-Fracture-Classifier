{
 "cells": [
  {
   "cell_type": "markdown",
   "metadata": {},
   "source": [
    "# Model Evaluation"
   ]
  },
  {
   "cell_type": "code",
   "execution_count": 33,
   "metadata": {},
   "outputs": [],
   "source": [
    "# IMPORTS\n",
    "import pandas as pd\n",
    "import numpy as np\n",
    "import matplotlib.pyplot as plt\n",
    "import seaborn as sns\n",
    "import joblib\n",
    "import cv2 as cv\n",
    "from sklearn.metrics import confusion_matrix, accuracy_score, precision_score, recall_score, f1_score, roc_auc_score, roc_curve, auc"
   ]
  },
  {
   "cell_type": "markdown",
   "metadata": {},
   "source": [
    "## LOAD VALIDATION (TEST) DATA"
   ]
  },
  {
   "cell_type": "code",
   "execution_count": 8,
   "metadata": {},
   "outputs": [
    {
     "data": {
      "text/html": [
       "<div>\n",
       "<style scoped>\n",
       "    .dataframe tbody tr th:only-of-type {\n",
       "        vertical-align: middle;\n",
       "    }\n",
       "\n",
       "    .dataframe tbody tr th {\n",
       "        vertical-align: top;\n",
       "    }\n",
       "\n",
       "    .dataframe thead th {\n",
       "        text-align: right;\n",
       "    }\n",
       "</style>\n",
       "<table border=\"1\" class=\"dataframe\">\n",
       "  <thead>\n",
       "    <tr style=\"text-align: right;\">\n",
       "      <th></th>\n",
       "      <th>image_data</th>\n",
       "      <th>label</th>\n",
       "    </tr>\n",
       "  </thead>\n",
       "  <tbody>\n",
       "    <tr>\n",
       "      <th>0</th>\n",
       "      <td>[[0, 0, 0, 0, 0, 0, 0, 0, 0, 0, 0, 0, 0, 0, 0,...</td>\n",
       "      <td>1</td>\n",
       "    </tr>\n",
       "    <tr>\n",
       "      <th>1</th>\n",
       "      <td>[[0, 0, 0, 0, 0, 0, 0, 0, 0, 0, 0, 0, 0, 0, 0,...</td>\n",
       "      <td>1</td>\n",
       "    </tr>\n",
       "    <tr>\n",
       "      <th>2</th>\n",
       "      <td>[[0, 0, 0, 0, 0, 0, 0, 0, 0, 0, 0, 0, 0, 0, 0,...</td>\n",
       "      <td>1</td>\n",
       "    </tr>\n",
       "    <tr>\n",
       "      <th>3</th>\n",
       "      <td>[[0, 0, 0, 0, 0, 0, 0, 0, 0, 0, 0, 0, 0, 0, 0,...</td>\n",
       "      <td>1</td>\n",
       "    </tr>\n",
       "    <tr>\n",
       "      <th>4</th>\n",
       "      <td>[[0, 0, 0, 0, 0, 0, 0, 0, 0, 0, 0, 0, 0, 0, 0,...</td>\n",
       "      <td>1</td>\n",
       "    </tr>\n",
       "    <tr>\n",
       "      <th>...</th>\n",
       "      <td>...</td>\n",
       "      <td>...</td>\n",
       "    </tr>\n",
       "    <tr>\n",
       "      <th>395</th>\n",
       "      <td>[[0, 0, 0, 0, 0, 0, 0, 0, 0, 0, 0, 0, 0, 0, 0,...</td>\n",
       "      <td>0</td>\n",
       "    </tr>\n",
       "    <tr>\n",
       "      <th>396</th>\n",
       "      <td>[[0, 0, 0, 0, 0, 0, 0, 0, 0, 0, 0, 0, 0, 0, 0,...</td>\n",
       "      <td>0</td>\n",
       "    </tr>\n",
       "    <tr>\n",
       "      <th>397</th>\n",
       "      <td>[[0, 0, 0, 0, 0, 0, 0, 0, 0, 0, 0, 0, 0, 0, 0,...</td>\n",
       "      <td>0</td>\n",
       "    </tr>\n",
       "    <tr>\n",
       "      <th>398</th>\n",
       "      <td>[[0, 0, 0, 0, 0, 0, 0, 0, 0, 0, 0, 0, 0, 0, 0,...</td>\n",
       "      <td>0</td>\n",
       "    </tr>\n",
       "    <tr>\n",
       "      <th>399</th>\n",
       "      <td>[[0, 0, 0, 0, 0, 0, 0, 0, 0, 0, 0, 0, 0, 0, 0,...</td>\n",
       "      <td>0</td>\n",
       "    </tr>\n",
       "  </tbody>\n",
       "</table>\n",
       "<p>400 rows × 2 columns</p>\n",
       "</div>"
      ],
      "text/plain": [
       "                                            image_data label\n",
       "0    [[0, 0, 0, 0, 0, 0, 0, 0, 0, 0, 0, 0, 0, 0, 0,...     1\n",
       "1    [[0, 0, 0, 0, 0, 0, 0, 0, 0, 0, 0, 0, 0, 0, 0,...     1\n",
       "2    [[0, 0, 0, 0, 0, 0, 0, 0, 0, 0, 0, 0, 0, 0, 0,...     1\n",
       "3    [[0, 0, 0, 0, 0, 0, 0, 0, 0, 0, 0, 0, 0, 0, 0,...     1\n",
       "4    [[0, 0, 0, 0, 0, 0, 0, 0, 0, 0, 0, 0, 0, 0, 0,...     1\n",
       "..                                                 ...   ...\n",
       "395  [[0, 0, 0, 0, 0, 0, 0, 0, 0, 0, 0, 0, 0, 0, 0,...     0\n",
       "396  [[0, 0, 0, 0, 0, 0, 0, 0, 0, 0, 0, 0, 0, 0, 0,...     0\n",
       "397  [[0, 0, 0, 0, 0, 0, 0, 0, 0, 0, 0, 0, 0, 0, 0,...     0\n",
       "398  [[0, 0, 0, 0, 0, 0, 0, 0, 0, 0, 0, 0, 0, 0, 0,...     0\n",
       "399  [[0, 0, 0, 0, 0, 0, 0, 0, 0, 0, 0, 0, 0, 0, 0,...     0\n",
       "\n",
       "[400 rows x 2 columns]"
      ]
     },
     "execution_count": 8,
     "metadata": {},
     "output_type": "execute_result"
    }
   ],
   "source": [
    "# Load picked data\n",
    "df_test = pd.read_pickle(\"../pickled_data/df_val.pkl\")\n",
    "df_test"
   ]
  },
  {
   "cell_type": "code",
   "execution_count": 9,
   "metadata": {},
   "outputs": [
    {
     "data": {
      "text/html": [
       "<div>\n",
       "<style scoped>\n",
       "    .dataframe tbody tr th:only-of-type {\n",
       "        vertical-align: middle;\n",
       "    }\n",
       "\n",
       "    .dataframe tbody tr th {\n",
       "        vertical-align: top;\n",
       "    }\n",
       "\n",
       "    .dataframe thead th {\n",
       "        text-align: right;\n",
       "    }\n",
       "</style>\n",
       "<table border=\"1\" class=\"dataframe\">\n",
       "  <thead>\n",
       "    <tr style=\"text-align: right;\">\n",
       "      <th></th>\n",
       "      <th>image_data</th>\n",
       "      <th>label</th>\n",
       "    </tr>\n",
       "  </thead>\n",
       "  <tbody>\n",
       "    <tr>\n",
       "      <th>0</th>\n",
       "      <td>[0, 0, 0, 0, 0, 0, 0, 0, 0, 0, 0, 0, 0, 0, 0, ...</td>\n",
       "      <td>1</td>\n",
       "    </tr>\n",
       "    <tr>\n",
       "      <th>1</th>\n",
       "      <td>[0, 0, 0, 0, 0, 0, 0, 0, 0, 0, 0, 0, 0, 0, 0, ...</td>\n",
       "      <td>1</td>\n",
       "    </tr>\n",
       "    <tr>\n",
       "      <th>2</th>\n",
       "      <td>[0, 0, 0, 0, 0, 0, 0, 0, 0, 0, 0, 0, 0, 0, 0, ...</td>\n",
       "      <td>1</td>\n",
       "    </tr>\n",
       "    <tr>\n",
       "      <th>3</th>\n",
       "      <td>[0, 0, 0, 0, 0, 0, 0, 0, 0, 0, 0, 0, 0, 0, 0, ...</td>\n",
       "      <td>1</td>\n",
       "    </tr>\n",
       "    <tr>\n",
       "      <th>4</th>\n",
       "      <td>[0, 0, 0, 0, 0, 0, 0, 0, 0, 0, 0, 0, 0, 0, 0, ...</td>\n",
       "      <td>1</td>\n",
       "    </tr>\n",
       "    <tr>\n",
       "      <th>...</th>\n",
       "      <td>...</td>\n",
       "      <td>...</td>\n",
       "    </tr>\n",
       "    <tr>\n",
       "      <th>395</th>\n",
       "      <td>[0, 0, 0, 0, 0, 0, 0, 0, 0, 0, 0, 0, 0, 0, 0, ...</td>\n",
       "      <td>0</td>\n",
       "    </tr>\n",
       "    <tr>\n",
       "      <th>396</th>\n",
       "      <td>[0, 0, 0, 0, 0, 0, 0, 0, 0, 0, 0, 0, 0, 0, 0, ...</td>\n",
       "      <td>0</td>\n",
       "    </tr>\n",
       "    <tr>\n",
       "      <th>397</th>\n",
       "      <td>[0, 0, 0, 0, 0, 0, 0, 0, 0, 0, 0, 0, 0, 0, 0, ...</td>\n",
       "      <td>0</td>\n",
       "    </tr>\n",
       "    <tr>\n",
       "      <th>398</th>\n",
       "      <td>[0, 0, 0, 0, 0, 0, 0, 0, 0, 0, 0, 0, 0, 0, 0, ...</td>\n",
       "      <td>0</td>\n",
       "    </tr>\n",
       "    <tr>\n",
       "      <th>399</th>\n",
       "      <td>[0, 0, 0, 0, 0, 0, 0, 0, 0, 0, 0, 0, 0, 0, 0, ...</td>\n",
       "      <td>0</td>\n",
       "    </tr>\n",
       "  </tbody>\n",
       "</table>\n",
       "<p>400 rows × 2 columns</p>\n",
       "</div>"
      ],
      "text/plain": [
       "                                            image_data label\n",
       "0    [0, 0, 0, 0, 0, 0, 0, 0, 0, 0, 0, 0, 0, 0, 0, ...     1\n",
       "1    [0, 0, 0, 0, 0, 0, 0, 0, 0, 0, 0, 0, 0, 0, 0, ...     1\n",
       "2    [0, 0, 0, 0, 0, 0, 0, 0, 0, 0, 0, 0, 0, 0, 0, ...     1\n",
       "3    [0, 0, 0, 0, 0, 0, 0, 0, 0, 0, 0, 0, 0, 0, 0, ...     1\n",
       "4    [0, 0, 0, 0, 0, 0, 0, 0, 0, 0, 0, 0, 0, 0, 0, ...     1\n",
       "..                                                 ...   ...\n",
       "395  [0, 0, 0, 0, 0, 0, 0, 0, 0, 0, 0, 0, 0, 0, 0, ...     0\n",
       "396  [0, 0, 0, 0, 0, 0, 0, 0, 0, 0, 0, 0, 0, 0, 0, ...     0\n",
       "397  [0, 0, 0, 0, 0, 0, 0, 0, 0, 0, 0, 0, 0, 0, 0, ...     0\n",
       "398  [0, 0, 0, 0, 0, 0, 0, 0, 0, 0, 0, 0, 0, 0, 0, ...     0\n",
       "399  [0, 0, 0, 0, 0, 0, 0, 0, 0, 0, 0, 0, 0, 0, 0, ...     0\n",
       "\n",
       "[400 rows x 2 columns]"
      ]
     },
     "execution_count": 9,
     "metadata": {},
     "output_type": "execute_result"
    }
   ],
   "source": [
    "# Flatten the image_data\n",
    "df_test['image_data'] = df_test['image_data'].apply(lambda x: x.flatten())\n",
    "df_test"
   ]
  },
  {
   "cell_type": "markdown",
   "metadata": {},
   "source": [
    "## LOAD MODELS"
   ]
  },
  {
   "cell_type": "code",
   "execution_count": 35,
   "metadata": {},
   "outputs": [
    {
     "data": {
      "text/plain": [
       "SVC(C=1, kernel='linear')"
      ]
     },
     "execution_count": 35,
     "metadata": {},
     "output_type": "execute_result"
    }
   ],
   "source": [
    "# Load SVM model variant (a)\n",
    "svm_model_a = joblib.load(\"../exported_models/svm_model_(a).pkl\")\n",
    "svm_model_a"
   ]
  },
  {
   "cell_type": "code",
   "execution_count": 3,
   "metadata": {},
   "outputs": [
    {
     "data": {
      "text/plain": [
       "SVC(C=1)"
      ]
     },
     "execution_count": 3,
     "metadata": {},
     "output_type": "execute_result"
    }
   ],
   "source": [
    "# Load SVM model variant (b)\n",
    "svm_model_b = joblib.load(\"../exported_models/svm_model_(b).pkl\")\n",
    "svm_model_b"
   ]
  },
  {
   "cell_type": "code",
   "execution_count": 38,
   "metadata": {},
   "outputs": [
    {
     "data": {
      "text/plain": [
       "SVC(C=1, kernel='poly')"
      ]
     },
     "execution_count": 38,
     "metadata": {},
     "output_type": "execute_result"
    }
   ],
   "source": [
    "# Load SVM model variant (c)\n",
    "svm_model_c = joblib.load(\"../exported_models/svm_model_(c).pkl\")\n",
    "svm_model_c"
   ]
  },
  {
   "cell_type": "markdown",
   "metadata": {},
   "source": [
    "## Evaluation of the models' performance on the validation data"
   ]
  },
  {
   "cell_type": "code",
   "execution_count": 6,
   "metadata": {},
   "outputs": [],
   "source": [
    "# Import time module to measure the time taken to predict\n",
    "import time"
   ]
  },
  {
   "cell_type": "code",
   "execution_count": 8,
   "metadata": {},
   "outputs": [
    {
     "name": "stdout",
     "output_type": "stream",
     "text": [
      "Time taken to predict: 135.4493396282196 seconds\n"
     ]
    }
   ],
   "source": [
    "# Predict the test data (using the SVM model variant (a))\n",
    "start_time = time.time()\n",
    "y_predicted_a = svm_model_a.predict(df_test['image_data'].tolist())\n",
    "end_time = time.time()\n",
    "\n",
    "# Calculate the time taken to predict\n",
    "time_taken_a = end_time - start_time\n",
    "print(f\"Time taken to predict: {time_taken_a} seconds\")"
   ]
  },
  {
   "cell_type": "code",
   "execution_count": 9,
   "metadata": {},
   "outputs": [
    {
     "data": {
      "text/plain": [
       "array([1, 1, 0, 1, 1, 1, 1, 1, 1, 1, 1, 1, 1, 0, 1, 1, 0, 1, 1, 1, 1, 1,\n",
       "       1, 1, 1, 1, 1, 1, 1, 1, 1, 1, 1, 1, 1, 1, 1, 0, 1, 1, 1, 1, 1, 1,\n",
       "       1, 1, 1, 1, 1, 1, 1, 1, 1, 1, 0, 0, 0, 1, 1, 0, 0, 1, 0, 0, 0, 1,\n",
       "       0, 1, 1, 1, 1, 1, 1, 1, 1, 1, 1, 1, 1, 1, 1, 1, 1, 0, 0, 1, 1, 1,\n",
       "       0, 1, 1, 1, 1, 1, 1, 1, 1, 1, 1, 1, 1, 1, 1, 1, 1, 1, 1, 1, 1, 1,\n",
       "       1, 1, 1, 1, 1, 1, 1, 1, 1, 1, 1, 1, 1, 1, 1, 1, 1, 1, 1, 1, 1, 1,\n",
       "       1, 1, 1, 1, 1, 1, 1, 1, 1, 1, 1, 1, 1, 1, 1, 1, 1, 1, 1, 1, 1, 1,\n",
       "       1, 1, 1, 1, 1, 1, 1, 1, 1, 1, 1, 1, 0, 1, 1, 1, 1, 1, 1, 1, 1, 1,\n",
       "       1, 1, 0, 1, 1, 1, 1, 1, 1, 1, 1, 1, 1, 0, 1, 1, 1, 1, 1, 1, 1, 1,\n",
       "       0, 1, 0, 0, 0, 0, 0, 0, 0, 0, 0, 0, 0, 0, 0, 0, 0, 0, 0, 0, 0, 0,\n",
       "       0, 1, 0, 0, 1, 0, 1, 1, 0, 0, 0, 0, 0, 0, 0, 1, 0, 0, 0, 0, 0, 0,\n",
       "       0, 0, 0, 0, 1, 0, 0, 0, 0, 0, 0, 0, 0, 0, 0, 1, 0, 0, 0, 0, 0, 0,\n",
       "       0, 0, 0, 0, 0, 0, 0, 0, 0, 0, 0, 0, 0, 0, 0, 0, 0, 0, 0, 0, 0, 0,\n",
       "       0, 0, 0, 0, 1, 0, 0, 0, 0, 0, 0, 0, 0, 0, 0, 1, 0, 0, 0, 0, 0, 0,\n",
       "       0, 0, 0, 0, 0, 0, 0, 0, 0, 0, 0, 0, 0, 0, 0, 0, 0, 0, 0, 0, 1, 1,\n",
       "       1, 0, 0, 0, 0, 1, 0, 0, 0, 0, 0, 0, 0, 0, 0, 0, 0, 0, 0, 0, 1, 0,\n",
       "       1, 1, 1, 1, 0, 0, 1, 0, 0, 0, 0, 0, 0, 0, 0, 0, 0, 0, 0, 0, 0, 0,\n",
       "       0, 1, 1, 0, 0, 1, 0, 1, 0, 0, 0, 0, 0, 0, 0, 0, 0, 0, 0, 0, 0, 0,\n",
       "       0, 1, 1, 0])"
      ]
     },
     "execution_count": 9,
     "metadata": {},
     "output_type": "execute_result"
    }
   ],
   "source": [
    "y_predicted_a"
   ]
  },
  {
   "cell_type": "code",
   "execution_count": 10,
   "metadata": {},
   "outputs": [
    {
     "name": "stdout",
     "output_type": "stream",
     "text": [
      "Time taken to predict: 1536.6182684898376 seconds\n"
     ]
    }
   ],
   "source": [
    "# Predict the test data (using the SVM model variant (b))\n",
    "start_time = time.time()\n",
    "y_predicted_b = svm_model_b.predict(df_test['image_data'].tolist())\n",
    "end_time = time.time()\n",
    "\n",
    "# Calculate the time taken to predict\n",
    "time_taken_b = end_time - start_time\n",
    "print(f\"Time taken to predict: {time_taken_b} seconds\")"
   ]
  },
  {
   "cell_type": "code",
   "execution_count": 17,
   "metadata": {},
   "outputs": [
    {
     "data": {
      "text/plain": [
       "array([1, 1, 1, 1, 1, 1, 1, 1, 1, 1, 1, 1, 1, 1, 1, 1, 0, 1, 1, 1, 1, 1,\n",
       "       1, 1, 1, 1, 1, 1, 1, 1, 1, 1, 1, 1, 1, 1, 1, 0, 1, 1, 1, 1, 1, 1,\n",
       "       1, 1, 1, 1, 1, 1, 1, 1, 1, 1, 1, 1, 0, 1, 1, 1, 0, 1, 1, 0, 1, 1,\n",
       "       0, 1, 1, 1, 1, 1, 1, 1, 1, 1, 1, 1, 1, 1, 1, 1, 1, 0, 0, 1, 1, 1,\n",
       "       0, 1, 1, 1, 1, 1, 1, 1, 1, 1, 1, 1, 1, 1, 1, 1, 1, 1, 1, 1, 1, 1,\n",
       "       1, 1, 1, 1, 1, 1, 1, 1, 1, 1, 1, 1, 1, 1, 1, 1, 1, 1, 1, 1, 1, 1,\n",
       "       1, 1, 1, 1, 1, 1, 1, 1, 1, 1, 1, 1, 1, 1, 1, 1, 1, 1, 1, 1, 1, 1,\n",
       "       1, 1, 1, 1, 1, 1, 1, 1, 1, 1, 1, 1, 0, 1, 1, 1, 1, 1, 1, 1, 1, 1,\n",
       "       1, 1, 1, 1, 1, 1, 1, 1, 1, 1, 1, 1, 1, 1, 1, 1, 1, 1, 1, 1, 1, 1,\n",
       "       0, 1, 0, 0, 0, 0, 0, 0, 0, 0, 0, 0, 0, 0, 0, 0, 0, 0, 0, 0, 0, 0,\n",
       "       0, 0, 0, 0, 0, 0, 0, 0, 0, 0, 0, 0, 0, 0, 0, 0, 0, 0, 0, 0, 0, 0,\n",
       "       0, 0, 0, 0, 0, 0, 0, 0, 0, 0, 0, 0, 0, 0, 0, 0, 0, 0, 0, 0, 0, 0,\n",
       "       0, 0, 0, 0, 0, 0, 0, 0, 0, 0, 0, 0, 0, 0, 0, 0, 0, 0, 0, 0, 0, 0,\n",
       "       0, 0, 0, 0, 1, 0, 0, 0, 0, 0, 0, 0, 0, 0, 0, 0, 0, 0, 0, 0, 0, 0,\n",
       "       0, 0, 0, 0, 0, 0, 0, 0, 0, 0, 0, 0, 0, 0, 0, 0, 0, 0, 0, 0, 0, 0,\n",
       "       0, 0, 0, 0, 0, 0, 0, 0, 0, 0, 0, 0, 0, 0, 0, 0, 0, 0, 0, 0, 0, 0,\n",
       "       0, 0, 1, 0, 0, 0, 0, 0, 0, 0, 0, 0, 0, 0, 0, 0, 0, 0, 0, 0, 0, 0,\n",
       "       0, 0, 0, 0, 0, 0, 0, 0, 0, 0, 0, 0, 0, 0, 0, 0, 0, 0, 0, 0, 0, 0,\n",
       "       0, 0, 0, 0])"
      ]
     },
     "execution_count": 17,
     "metadata": {},
     "output_type": "execute_result"
    }
   ],
   "source": [
    "y_predicted_b"
   ]
  },
  {
   "cell_type": "code",
   "execution_count": 12,
   "metadata": {},
   "outputs": [
    {
     "name": "stdout",
     "output_type": "stream",
     "text": [
      "Time taken to predict: 227.39304304122925 seconds\n"
     ]
    }
   ],
   "source": [
    "# Predict the test data (using the SVM model variant (c))\n",
    "start_time = time.time()\n",
    "y_predicted_c = svm_model_c.predict(df_test['image_data'].tolist())\n",
    "end_time = time.time()\n",
    "\n",
    "# Calculate the time taken to predict\n",
    "time_taken_c = end_time - start_time\n",
    "print(f\"Time taken to predict: {time_taken_c} seconds\")"
   ]
  },
  {
   "cell_type": "code",
   "execution_count": 13,
   "metadata": {},
   "outputs": [
    {
     "data": {
      "text/plain": [
       "array([1, 1, 1, 1, 1, 1, 1, 1, 1, 1, 1, 1, 1, 1, 1, 1, 1, 1, 1, 1, 1, 1,\n",
       "       1, 1, 1, 1, 1, 1, 1, 1, 1, 1, 1, 1, 1, 1, 1, 1, 1, 1, 1, 1, 1, 1,\n",
       "       1, 1, 1, 1, 1, 1, 1, 1, 1, 1, 1, 1, 1, 1, 1, 1, 1, 1, 1, 1, 1, 1,\n",
       "       1, 1, 1, 1, 1, 1, 1, 1, 1, 1, 1, 1, 1, 1, 1, 1, 1, 1, 1, 1, 1, 1,\n",
       "       1, 1, 1, 1, 1, 1, 1, 1, 1, 1, 1, 1, 1, 1, 1, 1, 1, 1, 1, 1, 1, 1,\n",
       "       1, 1, 1, 1, 1, 1, 1, 1, 1, 1, 1, 1, 1, 1, 1, 1, 1, 1, 1, 1, 1, 1,\n",
       "       1, 1, 1, 1, 1, 1, 1, 1, 1, 1, 1, 1, 1, 1, 1, 1, 1, 1, 1, 1, 1, 1,\n",
       "       1, 1, 1, 1, 1, 1, 1, 1, 1, 1, 1, 1, 1, 1, 1, 1, 1, 1, 1, 1, 1, 1,\n",
       "       1, 1, 1, 1, 1, 1, 1, 1, 1, 1, 1, 1, 1, 1, 1, 1, 1, 1, 1, 1, 1, 1,\n",
       "       1, 1, 1, 1, 1, 1, 1, 1, 1, 1, 1, 1, 1, 1, 1, 1, 1, 1, 1, 1, 1, 1,\n",
       "       1, 1, 1, 1, 1, 1, 1, 1, 1, 1, 1, 1, 1, 1, 1, 1, 1, 1, 1, 1, 1, 1,\n",
       "       1, 1, 1, 1, 1, 1, 1, 1, 1, 1, 1, 1, 1, 1, 1, 1, 1, 1, 1, 1, 1, 1,\n",
       "       1, 1, 1, 1, 1, 0, 0, 1, 1, 1, 1, 1, 1, 1, 1, 1, 1, 1, 1, 1, 1, 1,\n",
       "       1, 1, 1, 1, 1, 1, 0, 1, 0, 1, 1, 1, 1, 1, 1, 1, 1, 1, 1, 1, 1, 1,\n",
       "       1, 1, 1, 1, 1, 1, 1, 1, 1, 1, 1, 1, 1, 1, 1, 1, 1, 1, 1, 1, 1, 1,\n",
       "       1, 1, 1, 1, 1, 1, 1, 1, 1, 1, 1, 1, 1, 1, 1, 1, 1, 1, 1, 1, 1, 1,\n",
       "       1, 1, 1, 1, 1, 1, 1, 1, 1, 1, 1, 1, 1, 1, 1, 1, 1, 1, 1, 1, 1, 1,\n",
       "       1, 1, 1, 1, 1, 1, 1, 1, 1, 1, 1, 1, 1, 1, 1, 1, 1, 1, 1, 1, 1, 1,\n",
       "       1, 1, 1, 1])"
      ]
     },
     "execution_count": 13,
     "metadata": {},
     "output_type": "execute_result"
    }
   ],
   "source": [
    "y_predicted_c"
   ]
  },
  {
   "cell_type": "code",
   "execution_count": 12,
   "metadata": {},
   "outputs": [
    {
     "data": {
      "text/plain": [
       "[1,\n",
       " 1,\n",
       " 1,\n",
       " 1,\n",
       " 1,\n",
       " 1,\n",
       " 1,\n",
       " 1,\n",
       " 1,\n",
       " 1,\n",
       " 1,\n",
       " 1,\n",
       " 1,\n",
       " 1,\n",
       " 1,\n",
       " 1,\n",
       " 1,\n",
       " 1,\n",
       " 1,\n",
       " 1,\n",
       " 1,\n",
       " 1,\n",
       " 1,\n",
       " 1,\n",
       " 1,\n",
       " 1,\n",
       " 1,\n",
       " 1,\n",
       " 1,\n",
       " 1,\n",
       " 1,\n",
       " 1,\n",
       " 1,\n",
       " 1,\n",
       " 1,\n",
       " 1,\n",
       " 1,\n",
       " 1,\n",
       " 1,\n",
       " 1,\n",
       " 1,\n",
       " 1,\n",
       " 1,\n",
       " 1,\n",
       " 1,\n",
       " 1,\n",
       " 1,\n",
       " 1,\n",
       " 1,\n",
       " 1,\n",
       " 1,\n",
       " 1,\n",
       " 1,\n",
       " 1,\n",
       " 1,\n",
       " 1,\n",
       " 1,\n",
       " 1,\n",
       " 1,\n",
       " 1,\n",
       " 1,\n",
       " 1,\n",
       " 1,\n",
       " 1,\n",
       " 1,\n",
       " 1,\n",
       " 1,\n",
       " 1,\n",
       " 1,\n",
       " 1,\n",
       " 1,\n",
       " 1,\n",
       " 1,\n",
       " 1,\n",
       " 1,\n",
       " 1,\n",
       " 1,\n",
       " 1,\n",
       " 1,\n",
       " 1,\n",
       " 1,\n",
       " 1,\n",
       " 1,\n",
       " 1,\n",
       " 1,\n",
       " 1,\n",
       " 1,\n",
       " 1,\n",
       " 1,\n",
       " 1,\n",
       " 1,\n",
       " 1,\n",
       " 1,\n",
       " 1,\n",
       " 1,\n",
       " 1,\n",
       " 1,\n",
       " 1,\n",
       " 1,\n",
       " 1,\n",
       " 1,\n",
       " 1,\n",
       " 1,\n",
       " 1,\n",
       " 1,\n",
       " 1,\n",
       " 1,\n",
       " 1,\n",
       " 1,\n",
       " 1,\n",
       " 1,\n",
       " 1,\n",
       " 1,\n",
       " 1,\n",
       " 1,\n",
       " 1,\n",
       " 1,\n",
       " 1,\n",
       " 1,\n",
       " 1,\n",
       " 1,\n",
       " 1,\n",
       " 1,\n",
       " 1,\n",
       " 1,\n",
       " 1,\n",
       " 1,\n",
       " 1,\n",
       " 1,\n",
       " 1,\n",
       " 1,\n",
       " 1,\n",
       " 1,\n",
       " 1,\n",
       " 1,\n",
       " 1,\n",
       " 1,\n",
       " 1,\n",
       " 1,\n",
       " 1,\n",
       " 1,\n",
       " 1,\n",
       " 1,\n",
       " 1,\n",
       " 1,\n",
       " 1,\n",
       " 1,\n",
       " 1,\n",
       " 1,\n",
       " 1,\n",
       " 1,\n",
       " 1,\n",
       " 1,\n",
       " 1,\n",
       " 1,\n",
       " 1,\n",
       " 1,\n",
       " 1,\n",
       " 1,\n",
       " 1,\n",
       " 1,\n",
       " 1,\n",
       " 1,\n",
       " 1,\n",
       " 1,\n",
       " 1,\n",
       " 1,\n",
       " 1,\n",
       " 1,\n",
       " 1,\n",
       " 1,\n",
       " 1,\n",
       " 1,\n",
       " 1,\n",
       " 1,\n",
       " 1,\n",
       " 1,\n",
       " 1,\n",
       " 1,\n",
       " 1,\n",
       " 1,\n",
       " 1,\n",
       " 1,\n",
       " 1,\n",
       " 1,\n",
       " 1,\n",
       " 1,\n",
       " 1,\n",
       " 1,\n",
       " 1,\n",
       " 1,\n",
       " 1,\n",
       " 1,\n",
       " 1,\n",
       " 1,\n",
       " 1,\n",
       " 1,\n",
       " 1,\n",
       " 1,\n",
       " 1,\n",
       " 0,\n",
       " 0,\n",
       " 0,\n",
       " 0,\n",
       " 0,\n",
       " 0,\n",
       " 0,\n",
       " 0,\n",
       " 0,\n",
       " 0,\n",
       " 0,\n",
       " 0,\n",
       " 0,\n",
       " 0,\n",
       " 0,\n",
       " 0,\n",
       " 0,\n",
       " 0,\n",
       " 0,\n",
       " 0,\n",
       " 0,\n",
       " 0,\n",
       " 0,\n",
       " 0,\n",
       " 0,\n",
       " 0,\n",
       " 0,\n",
       " 0,\n",
       " 0,\n",
       " 0,\n",
       " 0,\n",
       " 0,\n",
       " 0,\n",
       " 0,\n",
       " 0,\n",
       " 0,\n",
       " 0,\n",
       " 0,\n",
       " 0,\n",
       " 0,\n",
       " 0,\n",
       " 0,\n",
       " 0,\n",
       " 0,\n",
       " 0,\n",
       " 0,\n",
       " 0,\n",
       " 0,\n",
       " 0,\n",
       " 0,\n",
       " 0,\n",
       " 0,\n",
       " 0,\n",
       " 0,\n",
       " 0,\n",
       " 0,\n",
       " 0,\n",
       " 0,\n",
       " 0,\n",
       " 0,\n",
       " 0,\n",
       " 0,\n",
       " 0,\n",
       " 0,\n",
       " 0,\n",
       " 0,\n",
       " 0,\n",
       " 0,\n",
       " 0,\n",
       " 0,\n",
       " 0,\n",
       " 0,\n",
       " 0,\n",
       " 0,\n",
       " 0,\n",
       " 0,\n",
       " 0,\n",
       " 0,\n",
       " 0,\n",
       " 0,\n",
       " 0,\n",
       " 0,\n",
       " 0,\n",
       " 0,\n",
       " 0,\n",
       " 0,\n",
       " 0,\n",
       " 0,\n",
       " 0,\n",
       " 0,\n",
       " 0,\n",
       " 0,\n",
       " 0,\n",
       " 0,\n",
       " 0,\n",
       " 0,\n",
       " 0,\n",
       " 0,\n",
       " 0,\n",
       " 0,\n",
       " 0,\n",
       " 0,\n",
       " 0,\n",
       " 0,\n",
       " 0,\n",
       " 0,\n",
       " 0,\n",
       " 0,\n",
       " 0,\n",
       " 0,\n",
       " 0,\n",
       " 0,\n",
       " 0,\n",
       " 0,\n",
       " 0,\n",
       " 0,\n",
       " 0,\n",
       " 0,\n",
       " 0,\n",
       " 0,\n",
       " 0,\n",
       " 0,\n",
       " 0,\n",
       " 0,\n",
       " 0,\n",
       " 0,\n",
       " 0,\n",
       " 0,\n",
       " 0,\n",
       " 0,\n",
       " 0,\n",
       " 0,\n",
       " 0,\n",
       " 0,\n",
       " 0,\n",
       " 0,\n",
       " 0,\n",
       " 0,\n",
       " 0,\n",
       " 0,\n",
       " 0,\n",
       " 0,\n",
       " 0,\n",
       " 0,\n",
       " 0,\n",
       " 0,\n",
       " 0,\n",
       " 0,\n",
       " 0,\n",
       " 0,\n",
       " 0,\n",
       " 0,\n",
       " 0,\n",
       " 0,\n",
       " 0,\n",
       " 0,\n",
       " 0,\n",
       " 0,\n",
       " 0,\n",
       " 0,\n",
       " 0,\n",
       " 0,\n",
       " 0,\n",
       " 0,\n",
       " 0,\n",
       " 0,\n",
       " 0,\n",
       " 0,\n",
       " 0,\n",
       " 0,\n",
       " 0,\n",
       " 0,\n",
       " 0,\n",
       " 0,\n",
       " 0,\n",
       " 0,\n",
       " 0,\n",
       " 0,\n",
       " 0,\n",
       " 0,\n",
       " 0,\n",
       " 0,\n",
       " 0,\n",
       " 0,\n",
       " 0,\n",
       " 0,\n",
       " 0,\n",
       " 0,\n",
       " 0,\n",
       " 0,\n",
       " 0,\n",
       " 0,\n",
       " 0,\n",
       " 0,\n",
       " 0,\n",
       " 0,\n",
       " 0,\n",
       " 0,\n",
       " 0,\n",
       " 0]"
      ]
     },
     "execution_count": 12,
     "metadata": {},
     "output_type": "execute_result"
    }
   ],
   "source": [
    "y_actual = df_test['label'].tolist()\n",
    "y_actual"
   ]
  },
  {
   "cell_type": "markdown",
   "metadata": {},
   "source": [
    "### AUCROC"
   ]
  },
  {
   "cell_type": "markdown",
   "metadata": {},
   "source": [
    "Model A"
   ]
  },
  {
   "cell_type": "code",
   "execution_count": 41,
   "metadata": {},
   "outputs": [
    {
     "data": {
      "text/plain": [
       "array([ 0.29997526,  0.37055329, -0.02641636,  0.64657689,  0.17315332,\n",
       "        0.6169223 ,  0.5672561 ,  0.34297555,  0.1882222 ,  0.20950487,\n",
       "        0.1190662 ,  0.28877962,  0.21103962, -0.0269163 ,  0.1882222 ,\n",
       "        0.28877962, -0.15468471,  0.27372359,  0.27372359,  0.22787004,\n",
       "        0.35091423,  0.19230312,  0.7320291 ,  0.24623207,  0.1619917 ,\n",
       "        0.24623207,  0.50160883,  0.59835161,  0.65347134,  0.36360793,\n",
       "        0.33314667,  0.03653021,  0.2278481 ,  0.27774634,  0.13193559,\n",
       "        0.47080373,  0.13585883, -0.1029368 ,  0.27304538,  0.19692855,\n",
       "        0.07802955,  0.22689841,  0.12749319,  0.19692855,  0.51328102,\n",
       "        0.15298416,  0.59798679,  0.54575078,  0.19593192,  0.66424302,\n",
       "        0.46170462,  0.73295369,  0.41628075,  0.17343908, -0.00984925,\n",
       "       -0.15588587, -0.25431462,  0.1619917 ,  0.46222887, -0.0989252 ,\n",
       "       -0.23634187,  0.23539646, -0.00984925, -0.23634187, -0.04330633,\n",
       "        0.0733953 , -0.22335741,  0.57834964,  0.38862226,  0.65503579,\n",
       "        0.82294691,  0.59898443,  0.67122168,  0.1342632 ,  0.26362924,\n",
       "        0.58289125,  0.26301736,  0.25157956,  0.17066456,  0.40062107,\n",
       "        0.15606861,  0.40312322,  0.060328  , -0.26730844, -0.2765726 ,\n",
       "        0.20634514,  0.04422802,  0.2221104 , -0.31750064,  0.19840155,\n",
       "        0.56805799,  0.54846451,  0.23932477,  0.2711043 ,  0.74499281,\n",
       "        0.76752137,  0.69495573,  0.59138675,  0.76752137,  0.51656917,\n",
       "        0.37880669,  0.30330891,  0.26138009,  0.06180648,  0.33293845,\n",
       "        0.37497513,  0.18577814,  0.17182136,  0.0915856 ,  0.13510047,\n",
       "        0.29246533,  0.54032567,  0.45401496,  0.45124269,  0.26897915,\n",
       "        0.33794707,  0.09618204,  0.7559521 ,  0.64541089,  0.53972206,\n",
       "        0.39154977,  0.6100088 ,  0.60614925,  0.25542941,  0.53443355,\n",
       "        0.52318048,  0.57314739,  0.90600953,  0.98796786,  0.90347762,\n",
       "        0.38027435,  0.42672999,  0.23264991,  0.61739656,  0.2427952 ,\n",
       "        0.5014554 ,  0.61278563,  0.60231442,  0.52856554,  0.47909793,\n",
       "        0.69390492,  0.48107846,  0.54748685,  0.35785041,  0.46760445,\n",
       "        0.31103149,  0.14374298,  0.48419546,  0.41429239,  0.34434141,\n",
       "        0.61970042,  0.346805  ,  0.43384789,  0.346805  ,  0.42720788,\n",
       "        0.17056918,  0.15904087,  0.72048551,  0.34088875,  0.42539104,\n",
       "        0.35244588,  0.37848049,  0.3712139 ,  0.17626727,  0.18940022,\n",
       "        0.04101289, -0.1942078 ,  0.29636636,  0.42488726,  0.41459193,\n",
       "        0.49145141,  0.36251611,  0.54484459,  0.2752121 ,  0.76614466,\n",
       "        0.82661066,  0.18477282,  0.04722278, -0.13370008,  0.16932606,\n",
       "        0.02144879,  0.50999518,  0.36428473,  0.32632631,  0.29747542,\n",
       "        0.20057799,  0.12534601,  0.18116715,  0.23579688, -0.12288208,\n",
       "        0.43572065,  0.10879743,  0.40513605,  0.39993368,  0.53872902,\n",
       "        0.20152368,  0.71724309,  0.19400382, -0.53015147,  0.2664924 ,\n",
       "       -0.90383883, -0.87378398, -0.99579041, -0.56450706, -0.58188131,\n",
       "       -0.34568905, -0.34930542, -0.73128946, -0.6507719 , -0.84903143,\n",
       "       -0.82759927, -0.59590268, -0.66641923, -0.99579041, -0.82482032,\n",
       "       -0.58439233, -0.53065056, -0.66782301, -0.96121965, -0.66677477,\n",
       "       -0.65213755,  0.07531227, -0.25655864, -0.41133287,  0.10324256,\n",
       "       -0.06454201,  0.02436053,  0.05221099, -0.40844602, -0.12392704,\n",
       "       -0.65096511, -0.8436662 , -0.9576178 , -0.7490307 , -0.75125467,\n",
       "        0.51174532, -0.76405236, -0.72744358, -0.74226154, -0.69801559,\n",
       "       -0.73887783, -0.52928154, -0.53213688, -0.64769523, -0.44327104,\n",
       "       -0.39528528,  0.29409562, -0.25575139, -0.39528528, -0.80879326,\n",
       "       -0.49495238, -0.47023544, -0.66334995, -0.59740253, -0.83512825,\n",
       "       -0.80038306, -0.81078869,  0.27321928, -0.85123073, -0.77209515,\n",
       "       -0.6481098 , -0.93659805, -0.86762675, -0.76214978, -0.9238253 ,\n",
       "       -1.01636353, -0.86897731, -0.66325893, -0.37591052, -1.07568057,\n",
       "       -1.17412642, -0.65689054, -0.53191117, -1.01044779, -0.93609806,\n",
       "       -0.66528785, -0.60676441, -0.72788173, -0.83539406, -0.42599418,\n",
       "       -0.82516456, -0.86913276, -0.75323642, -0.89678973, -0.69426957,\n",
       "       -0.83505659, -0.85058783, -1.00299044, -0.79743512, -0.86913276,\n",
       "        0.2759095 , -0.50670193, -1.32870166, -1.01615921, -0.78382009,\n",
       "       -0.29272256, -0.51833133, -0.41078953, -0.7912115 , -0.77878937,\n",
       "       -0.71865867,  0.15453815, -0.76040982, -0.87273178, -0.82993617,\n",
       "       -0.79024039, -0.85212258, -0.91828568, -0.77825174, -0.70117742,\n",
       "       -0.71544482, -0.9777553 , -0.88541825, -0.88836903, -0.90934428,\n",
       "       -0.8264667 , -0.7762194 , -0.73471551, -0.75940762, -0.86850187,\n",
       "       -0.68634384, -0.74539645, -0.79593504, -0.84222488, -0.73043292,\n",
       "       -0.75487274, -0.76732896, -0.12764307,  0.03710025,  0.33346396,\n",
       "        0.33414232, -0.06542454, -0.5972205 , -0.98019926, -0.80513754,\n",
       "        0.27607719, -0.73131345, -0.7439257 , -1.00735646, -0.6074816 ,\n",
       "       -0.67698966, -0.85570456, -0.68167518, -0.89424452, -0.79160726,\n",
       "       -0.89764205, -0.76039767, -0.6662757 , -0.72257062, -0.78231926,\n",
       "        0.23332438, -0.29229047,  0.05783338,  0.23332438,  0.07275452,\n",
       "        0.07624713, -0.6545721 , -0.17992516,  0.07624713, -0.79036571,\n",
       "       -0.95042494, -0.95598078, -0.87875005, -0.91612416, -0.66839039,\n",
       "       -0.87846807, -0.76841817, -0.77787529, -0.71000021, -0.91191453,\n",
       "       -0.91191453, -0.82236105, -0.74550274, -0.03169667, -0.40640123,\n",
       "        0.25940548,  0.25159751, -0.31761879, -0.93191771,  0.12568367,\n",
       "       -0.0259855 ,  0.12568367, -0.706075  , -0.69473536, -0.71582429,\n",
       "       -0.82668127, -0.76903649, -0.71001399, -0.8567532 , -1.01078906,\n",
       "       -0.73902552, -0.69836743, -0.72273234, -0.80446021, -0.70227024,\n",
       "       -0.89446077, -0.41239324,  0.06944832,  0.22983334, -0.31129503])"
      ]
     },
     "execution_count": 41,
     "metadata": {},
     "output_type": "execute_result"
    }
   ],
   "source": [
    "# Probability estimates of the positive class (using the SVM model variant (a))\n",
    "y_prob_a = svm_model_a.decision_function(df_test['image_data'].tolist())\n",
    "y_prob_a"
   ]
  },
  {
   "cell_type": "code",
   "execution_count": 42,
   "metadata": {},
   "outputs": [
    {
     "data": {
      "image/png": "[encoded data removed]",
      "text/plain": [
       "<Figure size 432x288 with 1 Axes>"
      ]
     },
     "metadata": {
      "needs_background": "light"
     },
     "output_type": "display_data"
    }
   ],
   "source": [
    "# Compute the ROC curve\n",
    "test_fpr, test_tpr, thresholds = roc_curve(y_actual, y_prob_a)\n",
    "\n",
    "# Plot the curve\n",
    "plt.grid()\n",
    "plt.plot(test_fpr, test_tpr, label=\" AUC =\"+str(auc(test_fpr, test_tpr)))\n",
    "plt.plot([0,1],[0,1],'g--')\n",
    "plt.legend()\n",
    "plt.xlabel(\"False Positive Rate\")\n",
    "plt.ylabel(\"True Positive Rate\")\n",
    "plt.title(\"AUC(ROC curve)\")\n",
    "plt.grid(color='black', linestyle='-', linewidth=0.5)\n",
    "plt.show()"
   ]
  },
  {
   "cell_type": "markdown",
   "metadata": {},
   "source": [
    "Model B"
   ]
  },
  {
   "cell_type": "code",
   "execution_count": null,
   "metadata": {},
   "outputs": [],
   "source": [
    "# Probability estimates of the positive class (using the SVM model variant (b))\n",
    "y_prob_b = svm_model_b.decision_function(df_test['image_data'].tolist())\n",
    "y_prob_b"
   ]
  },
  {
   "cell_type": "code",
   "execution_count": 31,
   "metadata": {},
   "outputs": [
    {
     "data": {
      "text/plain": [
       "0.997825"
      ]
     },
     "execution_count": 31,
     "metadata": {},
     "output_type": "execute_result"
    }
   ],
   "source": [
    "# AUC Score (using the SVM model variant (b))\n",
    "roc_auc_score(y_actual, y_prob_b)"
   ]
  },
  {
   "cell_type": "code",
   "execution_count": 29,
   "metadata": {},
   "outputs": [
    {
     "data": {
      "image/png": "[encoded data removed]",
      "text/plain": [
       "<Figure size 432x288 with 1 Axes>"
      ]
     },
     "metadata": {
      "needs_background": "light"
     },
     "output_type": "display_data"
    }
   ],
   "source": [
    "# Compute the ROC curve\n",
    "test_fpr, test_tpr, thresholds = roc_curve(y_actual, y_prob_b)\n",
    "\n",
    "# Plot the curve\n",
    "plt.grid()\n",
    "plt.plot(test_fpr, test_tpr, label=\" AUC =\"+str(auc(test_fpr, test_tpr)))\n",
    "plt.plot([0,1],[0,1],'g--')\n",
    "plt.legend()\n",
    "plt.xlabel(\"False Positive Rate\")\n",
    "plt.ylabel(\"True Positive Rate\")\n",
    "plt.title(\"AUC(ROC curve)\")\n",
    "plt.grid(color='black', linestyle='-', linewidth=0.5)\n",
    "plt.show()"
   ]
  },
  {
   "cell_type": "markdown",
   "metadata": {},
   "source": [
    "Model C"
   ]
  },
  {
   "cell_type": "code",
   "execution_count": 39,
   "metadata": {},
   "outputs": [
    {
     "data": {
      "text/plain": [
       "array([ 0.23494233,  0.24288019,  0.22282728,  0.32278764,  0.29247669,\n",
       "        0.33360464,  0.34166399,  0.34413013,  0.21018958,  0.24627545,\n",
       "        0.2460327 ,  0.29030591,  0.22747778,  0.22707173,  0.21018958,\n",
       "        0.29030591,  0.27036296,  0.24969134,  0.24969134,  0.25010756,\n",
       "        0.2527066 ,  0.294183  ,  0.35243561,  0.33350331,  0.31285914,\n",
       "        0.33350331,  0.30340729,  0.32419183,  0.27851289,  0.32990488,\n",
       "        0.34852046,  0.24470909,  0.25097581,  0.25652042,  0.28517758,\n",
       "        0.33448378,  0.28452726,  0.27013952,  0.27572214,  0.33235773,\n",
       "        0.25493691,  0.25257104,  0.22847391,  0.33235773,  0.33472538,\n",
       "        0.28701981,  0.33495801,  0.27282191,  0.32070397,  0.32942639,\n",
       "        0.30965581,  0.28083081,  0.33470583,  0.33609476,  0.26860537,\n",
       "        0.23449545,  0.18295999,  0.31285914,  0.29241036,  0.24952164,\n",
       "        0.23780304,  0.25360081,  0.26860537,  0.23780304,  0.24599284,\n",
       "        0.24853955,  0.23700165,  0.33651275,  0.29446316,  0.3320893 ,\n",
       "        0.32734373,  0.34713482,  0.30688364,  0.27750578,  0.30916909,\n",
       "        0.34528144,  0.33903034,  0.25998426,  0.2451466 ,  0.27722136,\n",
       "        0.23227641,  0.33691107,  0.26093083,  0.18941771,  0.18761404,\n",
       "        0.29063226,  0.24028869,  0.26280272,  0.1921325 ,  0.23347031,\n",
       "        0.25696592,  0.34986999,  0.30256386,  0.30373047,  0.4164027 ,\n",
       "        0.39455002,  0.28766552,  0.27574516,  0.39455002,  0.35316832,\n",
       "        0.25821186,  0.31868022,  0.25530064,  0.27270021,  0.2831302 ,\n",
       "        0.2852993 ,  0.21384349,  0.19745791,  0.27560182,  0.22991501,\n",
       "        0.28153655,  0.36375971,  0.26670612,  0.3344892 ,  0.27431292,\n",
       "        0.28458382,  0.25537296,  0.32493115,  0.24453841,  0.25404458,\n",
       "        0.18307957,  0.33024215,  0.28772525,  0.29636711,  0.27533859,\n",
       "        0.28038938,  0.33861344,  0.37917655,  0.33874051,  0.29050704,\n",
       "        0.34235289,  0.31663044,  0.28432399,  0.35242842,  0.25024289,\n",
       "        0.33263231,  0.37470206,  0.28348632,  0.27296504,  0.2962973 ,\n",
       "        0.31688545,  0.27498637,  0.30164172,  0.29130766,  0.32368091,\n",
       "        0.24861218,  0.27602344,  0.28898857,  0.28581846,  0.31697865,\n",
       "        0.34447953,  0.35140274,  0.31063557,  0.35140274,  0.33421228,\n",
       "        0.27735191,  0.25548774,  0.32362416,  0.33044669,  0.36376448,\n",
       "        0.25645964,  0.26152253,  0.21647294,  0.28619005,  0.2621865 ,\n",
       "        0.24482968,  0.18693618,  0.27770706,  0.29265591,  0.26667106,\n",
       "        0.26183868,  0.25729126,  0.26517308,  0.32734039,  0.35535569,\n",
       "        0.29103015,  0.31625973,  0.28774283,  0.2019296 ,  0.29086672,\n",
       "        0.2614963 ,  0.3276077 ,  0.34960514,  0.22972687,  0.2296391 ,\n",
       "        0.18912883,  0.28020872,  0.22262166,  0.26602693,  0.21185454,\n",
       "        0.29002972,  0.29392841,  0.26639433,  0.21134312,  0.27008104,\n",
       "        0.29776025,  0.35220569,  0.30924138,  0.195566  ,  0.33228272,\n",
       "        0.16776767,  0.17001729,  0.18015855,  0.28171552,  0.22450838,\n",
       "        0.28973409,  0.27490147,  0.2492982 ,  0.17784359,  0.19419112,\n",
       "        0.18989274,  0.22039138,  0.15129207,  0.18015855,  0.129994  ,\n",
       "        0.17667613,  0.21983365,  0.20317739,  0.14834082,  0.14540718,\n",
       "        0.19379524,  0.20279187,  0.22566842,  0.15561023,  0.27807421,\n",
       "        0.1293204 ,  0.26626142,  0.22962049,  0.1760279 ,  0.2923689 ,\n",
       "        0.25595345,  0.15288254,  0.17112457,  0.18746239,  0.19730807,\n",
       "        0.28188352,  0.19332005,  0.18425407,  0.18247146,  0.2523118 ,\n",
       "        0.17666929,  0.14669333,  0.12577303,  0.21170134,  0.22001189,\n",
       "        0.09974716,  0.27053517,  0.04323351,  0.09974716,  0.24645036,\n",
       "        0.20417371,  0.17211345,  0.24757216,  0.26204623,  0.16592836,\n",
       "        0.17091408,  0.17498102,  0.20314992,  0.19767681,  0.17111804,\n",
       "        0.13462393,  0.18003079,  0.20225973,  0.1664719 ,  0.13287882,\n",
       "        0.16743015,  0.15587536,  0.19338216,  0.23810107, -0.0340862 ,\n",
       "       -0.13875816,  0.02014658,  0.25692309,  0.22988023,  0.1349916 ,\n",
       "        0.2382895 ,  0.25063985,  0.17157273,  0.18251209,  0.19506736,\n",
       "        0.13129015,  0.19577513,  0.18450028,  0.1692865 ,  0.17252801,\n",
       "        0.19601196,  0.16021382,  0.16295264,  0.17302007,  0.19577513,\n",
       "        0.30604642,  0.14376074, -0.02847976,  0.13058604, -0.02022143,\n",
       "        0.24577071,  0.26544627,  0.27184785,  0.20236779,  0.21592626,\n",
       "        0.15313298,  0.34665837,  0.14735053,  0.13609685,  0.18153821,\n",
       "        0.14977911,  0.16277602,  0.1347838 ,  0.19114884,  0.16901624,\n",
       "        0.17323927,  0.18884587,  0.17047777,  0.21462846,  0.13951961,\n",
       "        0.14847314,  0.14186823,  0.18118648,  0.14675489,  0.16054674,\n",
       "        0.18235676,  0.18438849,  0.1445956 ,  0.20087314,  0.15315551,\n",
       "        0.14096523,  0.20921057,  0.22822205,  0.2457065 ,  0.29280376,\n",
       "        0.23253171,  0.32063374,  0.23095809,  0.09235054,  0.17509936,\n",
       "        0.37773826,  0.2320926 ,  0.17020635,  0.16877815,  0.17494279,\n",
       "        0.1883295 ,  0.16623394,  0.19981083,  0.15648242,  0.18823678,\n",
       "        0.16802711,  0.15293096,  0.18911078,  0.19255057,  0.15577471,\n",
       "        0.2095187 ,  0.18076392,  0.1689563 ,  0.2095187 ,  0.31489478,\n",
       "        0.37393207,  0.15943634,  0.32571237,  0.37393207,  0.23252753,\n",
       "        0.140476  ,  0.17392916,  0.14462352,  0.19063499,  0.16412812,\n",
       "        0.17315311,  0.166891  ,  0.17520808,  0.19521401,  0.16693199,\n",
       "        0.16693199,  0.17980173,  0.2056814 ,  0.27322036,  0.10726383,\n",
       "        0.3033694 ,  0.22915733,  0.28140722,  0.16598805,  0.33984244,\n",
       "        0.25553885,  0.33984244,  0.24171413,  0.19745823,  0.22389108,\n",
       "        0.14206463,  0.20779215,  0.2130081 ,  0.13869457,  0.19443781,\n",
       "        0.14549826,  0.20695314,  0.17837994,  0.19149304,  0.18573673,\n",
       "        0.21326059,  0.2560159 ,  0.22645419,  0.11220138,  0.12998937])"
      ]
     },
     "execution_count": 39,
     "metadata": {},
     "output_type": "execute_result"
    }
   ],
   "source": [
    "# Probability estimates of the positive class (using the SVM model variant (c))\n",
    "y_prob_c = svm_model_c.decision_function(df_test['image_data'].tolist())\n",
    "y_prob_c"
   ]
  },
  {
   "cell_type": "code",
   "execution_count": 40,
   "metadata": {},
   "outputs": [
    {
     "data": {
      "image/png": "[encoded data removed]",
      "text/plain": [
       "<Figure size 432x288 with 1 Axes>"
      ]
     },
     "metadata": {
      "needs_background": "light"
     },
     "output_type": "display_data"
    }
   ],
   "source": [
    "# Compute the ROC curve\n",
    "test_fpr, test_tpr, thresholds = roc_curve(y_actual, y_prob_c)\n",
    "\n",
    "# Plot the curve\n",
    "plt.grid()\n",
    "plt.plot(test_fpr, test_tpr, label=\" AUC =\"+str(auc(test_fpr, test_tpr)))\n",
    "plt.plot([0,1],[0,1],'g--')\n",
    "plt.legend()\n",
    "plt.xlabel(\"False Positive Rate\")\n",
    "plt.ylabel(\"True Positive Rate\")\n",
    "plt.title(\"AUC(ROC curve)\")\n",
    "plt.grid(color='black', linestyle='-', linewidth=0.5)\n",
    "plt.show()"
   ]
  },
  {
   "cell_type": "code",
   "execution_count": null,
   "metadata": {},
   "outputs": [],
   "source": []
  }
 ],
 "metadata": {
  "kernelspec": {
   "display_name": "Python 3 (ipykernel)",
   "language": "python",
   "name": "python3"
  },
  "language_info": {
   "codemirror_mode": {
    "name": "ipython",
    "version": 3
   },
   "file_extension": ".py",
   "mimetype": "text/x-python",
   "name": "python",
   "nbconvert_exporter": "python",
   "pygments_lexer": "ipython3",
   "version": "3.9.12"
  },
  "vscode": {
   "interpreter": {
    "hash": "bce94cf5ba4e91c139e25acaf699abf418036a78723bf02e000e119123230ea1"
   }
  }
 },
 "nbformat": 4,
 "nbformat_minor": 2
}
