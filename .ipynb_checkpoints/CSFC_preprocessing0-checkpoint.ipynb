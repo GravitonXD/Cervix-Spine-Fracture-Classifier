{
 "cells": [
  {
   "cell_type": "markdown",
   "metadata": {},
   "source": [
    "# IMAGE PRE-PROCESSING (RENAMING)\n",
    "This stage is done for easier image feature selection and transformation."
   ]
  },
  {
   "cell_type": "markdown",
   "metadata": {},
   "source": [
    "## NOTE\n",
    "Clear all outputs (and restart kernel) before running this notebook.\n",
    "Run only once, do not re-run when there is already CF_renamed folder."
   ]
  },
  {
   "cell_type": "code",
   "execution_count": 1,
   "metadata": {},
   "outputs": [],
   "source": [
    "# IMPORT LIBRARIES\n",
    "import os\n",
    "import shutil"
   ]
  },
  {
   "cell_type": "code",
   "execution_count": 2,
   "metadata": {},
   "outputs": [
    {
     "name": "stdout",
     "output_type": "stream",
     "text": [
      "Original Files copied to CF_copy\n"
     ]
    }
   ],
   "source": [
    "# Copy files to CF_copy\n",
    "shutil.copytree(\"./CF_original/\", \"./CF_copy/\", dirs_exist_ok=True)\n",
    "print(\"Original Files copied to CF_copy\")"
   ]
  },
  {
   "cell_type": "code",
   "execution_count": null,
   "metadata": {},
   "outputs": [],
   "source": [
    "# Paths to folders in CF_copy\n",
    "train_frac_path = \"./CF_copy/train/fracture\"\n",
    "train_norm_path = \"./CF_copy/train/normal\"\n",
    "val_frac_path = \"./CF_copy/val/fracture\"\n",
    "val_norm_path = \"./CF_copy/val/normal\""
   ]
  },
  {
   "cell_type": "code",
   "execution_count": null,
   "metadata": {},
   "outputs": [],
   "source": [
    "# Rename Function\n",
    "def rename(file_path, prefix_here):\n",
    "    image_num = 0\n",
    "\n",
    "    for item in os.listdir(file_path):\n",
    "        newname = item.replace(item, f\"{prefix_here}_{image_num}\")\n",
    "        print(f\"from {item} to {newname}\")\n",
    "        # rename: \n",
    "        os.rename(f'{file_path}\\{item}', f'{file_path}\\{newname}.png')\n",
    "        image_num += 1"
   ]
  },
  {
   "cell_type": "code",
   "execution_count": null,
   "metadata": {},
   "outputs": [],
   "source": [
    "# Rename files in train_frac_path\n",
    "rename(train_frac_path, \"train_frac\")\n",
    "print(\"STATUS: Files in train_frac renamed\")"
   ]
  },
  {
   "cell_type": "code",
   "execution_count": null,
   "metadata": {},
   "outputs": [],
   "source": [
    "# Rename files in train_norm_path\n",
    "rename(train_norm_path, \"train_norm\")\n",
    "print(\"STATUS: Files in train_norm renamed\")"
   ]
  },
  {
   "cell_type": "code",
   "execution_count": null,
   "metadata": {},
   "outputs": [],
   "source": [
    "# Rename files in val_frac_path\n",
    "rename(val_frac_path, \"val_frac\")\n",
    "print(\"STATUS: Files in val_frac renamed\")"
   ]
  },
  {
   "cell_type": "code",
   "execution_count": null,
   "metadata": {},
   "outputs": [],
   "source": [
    "# Rename files in val_norm_path\n",
    "rename(val_norm_path, \"val_norm\")\n",
    "print(\"STATUS: Files in val_norm renamed\")"
   ]
  }
 ],
 "metadata": {
  "kernelspec": {
   "display_name": "Python 3 (ipykernel)",
   "language": "python",
   "name": "python3"
  },
  "language_info": {
   "codemirror_mode": {
    "name": "ipython",
    "version": 3
   },
   "file_extension": ".py",
   "mimetype": "text/x-python",
   "name": "python",
   "nbconvert_exporter": "python",
   "pygments_lexer": "ipython3",
   "version": "3.9.12"
  },
  "vscode": {
   "interpreter": {
    "hash": "bce94cf5ba4e91c139e25acaf699abf418036a78723bf02e000e119123230ea1"
   }
  }
 },
 "nbformat": 4,
 "nbformat_minor": 2
}
